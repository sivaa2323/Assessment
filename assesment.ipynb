{
 "cells": [
  {
   "cell_type": "code",
   "execution_count": 58,
   "id": "244c4ed6",
   "metadata": {},
   "outputs": [
    {
     "name": "stdout",
     "output_type": "stream",
     "text": [
      "ALICE99 3 137.0\n",
      "CHARLIE 2 36.0\n",
      "sss4544 1 0.0\n",
      "CH@RLI3 1 0.0\n",
      "******* 1 0.0\n"
     ]
    }
   ],
   "source": [
    "from datetime import datetime\n",
    "with open('C:/Users/Siva Sankar RAJU/Downloads/net_square_assesment/samplelog.txt', 'r') as f:\n",
    "    lines = f.readlines()\n",
    "\n",
    "    user_sessions = {}\n",
    "    for line in lines:\n",
    "        parts = line.strip().split()\n",
    "        if len(parts) < 3: #timestamp, username, and action \n",
    "            continue\n",
    "            \n",
    "        try:\n",
    "            time = datetime.strptime(parts[0], '%H:%M:%S')\n",
    "        except ValueError:\n",
    "           continue \n",
    "        \n",
    "        user = parts[1]\n",
    "        action = parts[2]\n",
    "\n",
    "        if action == 'Start':\n",
    "            if user not in user_sessions:\n",
    "                user_sessions[user] = []\n",
    "            user_sessions[user].append((time, None))\n",
    "        elif action == 'End':\n",
    "            if user not in user_sessions:\n",
    "                continue\n",
    "            if user_sessions[user][-1][1] is None:\n",
    "                user_sessions[user][-1] = (user_sessions[user][-1][0], time)\n",
    "            else:\n",
    "                continue\n",
    "        else:\n",
    "            continue\n",
    "\n",
    "    for user, sessions in user_sessions.items():\n",
    "        session_count = len(sessions)\n",
    "        total_duration = 0\n",
    "        for start_time, end_time in sessions:\n",
    "            if end_time is None:\n",
    "                end_time = time\n",
    "            duration = (end_time - start_time).total_seconds()\n",
    "            total_duration += duration\n",
    "       \n",
    "        print(f\"{user} {session_count} {total_duration}\")\n",
    "\n"
   ]
  },
  {
   "cell_type": "code",
   "execution_count": null,
   "id": "837f555a",
   "metadata": {},
   "outputs": [],
   "source": []
  },
  {
   "cell_type": "code",
   "execution_count": null,
   "id": "7b378801",
   "metadata": {},
   "outputs": [],
   "source": []
  }
 ],
 "metadata": {
  "kernelspec": {
   "display_name": "Python 3",
   "language": "python",
   "name": "python3"
  },
  "language_info": {
   "codemirror_mode": {
    "name": "ipython",
    "version": 3
   },
   "file_extension": ".py",
   "mimetype": "text/x-python",
   "name": "python",
   "nbconvert_exporter": "python",
   "pygments_lexer": "ipython3",
   "version": "3.8.8"
  }
 },
 "nbformat": 4,
 "nbformat_minor": 5
}
